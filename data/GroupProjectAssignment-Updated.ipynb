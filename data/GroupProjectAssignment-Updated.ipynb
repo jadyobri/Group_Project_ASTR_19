{
 "cells": [
  {
   "cell_type": "markdown",
   "metadata": {},
   "source": [
    "# ASTR-19 Group Project\n",
    "This notebook is for the astr-19 group project.\n",
    "\n",
    "Authors: `Jack O'Brien`, `Leo Constantine`, `Veronica Sanchez M`, `Thomas Liao`\n"
   ]
  },
  {
   "cell_type": "code",
   "execution_count": 106,
   "metadata": {},
   "outputs": [],
   "source": [
    "# In this cell, we include libraries\n",
    "import astropy\n",
    "import numpy as np\n",
    "import matplotlib.pyplot as plt\n",
    "import matplotlib\n",
    "import scipy.optimize\n",
    "import math"
   ]
  },
  {
   "cell_type": "markdown",
   "metadata": {},
   "source": [
    "Now, we're parsing the file. It will be returned as two lists containing data from each of the columns."
   ]
  },
  {
   "cell_type": "code",
   "execution_count": 107,
   "metadata": {},
   "outputs": [],
   "source": [
    "def ParseFile(_Filename:str = \"dataset.txt\"):\n",
    "    \n",
    "#     # Firstly, read it into a list line by line\n",
    "#     Lines:list = []\n",
    "#     with open(_Filename, \"r\") as F:\n",
    "#         for Line in F:\n",
    "#             Lines.append(Line)\n",
    "    \n",
    "#     # Now, remove those that start with a '#'\n",
    "#     FilteredLines:list = []\n",
    "#     for Line in Lines:\n",
    "#         if \"#\" not in Line:\n",
    "#             FilteredLines.append(Line)\n",
    "            \n",
    "#     # Now parse into arrays\n",
    "#     Column0:list = []\n",
    "#     Column1:list = []\n",
    "#     Column2:list = []\n",
    "#     for Line in FilteredLines:\n",
    "#         Column0.append(Line[:3].replace(\" \", \"\"))\n",
    "#         Column1.append(Line[4:9])\n",
    "#         Column2.append(Line[10:].strip(\"\\n\"))\n",
    "           \n",
    "    data_txt = open(_Filename, \"r\")\n",
    "    \n",
    "    Column0 = []\n",
    "    Column1 = []\n",
    "    Column2 = []\n",
    "    for line in data_txt.readlines():\n",
    "        cols = line.split()\n",
    "        Column0.append(float(cols[0]))\n",
    "        Column1.append(str(cols[1]))\n",
    "        Column2.append(float(cols[2]))\n",
    "    \n",
    "    data_txt.close()\n",
    "    \n",
    "    # Return arrays\n",
    "    return Column0, Column1, Column2\n"
   ]
  },
  {
   "cell_type": "markdown",
   "metadata": {},
   "source": [
    "Now, we are going to parse the times in terms of seconds, then sort it based on time."
   ]
  },
  {
   "cell_type": "code",
   "execution_count": 108,
   "metadata": {},
   "outputs": [],
   "source": [
    "def SortTimes(_Days:list, _Times:list, _Height:list):\n",
    "    \n",
    "    # Firstly, we enumerate times, and convert from hh:mm to seconds\n",
    "    TimeSeconds:list = []\n",
    "    for i in range(len(_Times)):\n",
    "        Day = int(_Days[i]) - 1 # days start at 1, not 0\n",
    "        Hours = int(_Times[i].split(\":\")[0])\n",
    "        Minutes = int(_Times[i].split(\":\")[1])\n",
    "        Seconds = (Day * 3600 * 24) + (Hours * 3600) + (Minutes * 60)\n",
    "        TimeSeconds.append(Seconds)\n",
    "        \n",
    "    # Build Tuple For Sorting\n",
    "    TimePairs:list = []\n",
    "    for i in range(len(_Height)):\n",
    "        CurrentTime_s = TimeSeconds[i]\n",
    "        Height = _Height[i]\n",
    "        TimePairs.append((CurrentTime_s, float(Height)))\n",
    "    \n",
    "    # Now Sort it\n",
    "    TimePairs = sorted(TimePairs)\n",
    "    \n",
    "    # Now resplit it\n",
    "    XValues = []\n",
    "    YValues = []\n",
    "    for Pair in TimePairs:\n",
    "        XValues.append(Pair[0]/(3600))\n",
    "\n",
    "        YValues.append(Pair[1])\n",
    "    \n",
    "    \n",
    "    \n",
    "    return XValues, YValues\n"
   ]
  },
  {
   "cell_type": "code",
   "execution_count": 109,
   "metadata": {},
   "outputs": [],
   "source": [
    "def PlotTidalWave(_Timestamps:list, _Waveheights:list):\n",
    "    plt.plot(_Timestamps, _Waveheights)\n",
    "    plt.xlabel(\"Elapsed Time since start (hours)\")\n",
    "    plt.ylabel(\"Wave height (feet)\")\n",
    "    plt.title(\"Tidal Wave\")"
   ]
  },
  {
   "cell_type": "code",
   "execution_count": 110,
   "metadata": {},
   "outputs": [],
   "source": [
    "def Model(x, a, b, c, d, e, f, g, h, i):\n",
    "    return (np.cos(a*x + h)*b + f) * (np.sin(c*x + i)*d + g) + e"
   ]
  },
  {
   "cell_type": "code",
   "execution_count": 111,
   "metadata": {},
   "outputs": [],
   "source": [
    "def OptimizeModel(_XValues:list, _YValues:list, _Function:object):\n",
    "    return scipy.optimize.curve_fit(_Function, _XValues, _YValues, p0=[0.017, 6, 0.221, 5, 1, 1, 1, 1, 1], maxfev=100000)\n"
   ]
  },
  {
   "cell_type": "code",
   "execution_count": 112,
   "metadata": {},
   "outputs": [],
   "source": [
    "def PerformCurveFit(_XValues:list, _YValues:list):\n",
    "    \n",
    "    _XValues = np.asarray(_XValues)\n",
    "    _YValues = np.asarray(_YValues)\n",
    "    \n",
    "    \n",
    "        \n",
    "    NumSamples:int = 4000\n",
    "    DetailedXValues:list = np.linspace(0, np.max(_XValues), NumSamples)\n",
    "    DetailedYValues:list = np.interp(DetailedXValues, _XValues, _YValues)\n",
    "    \n",
    "    y_err = np.full_like(DetailedYValues, 0.25)\n",
    "    \n",
    "    BestParams:list = []\n",
    "    BestError:float = 9999999\n",
    "    for b in range(-5, 5):\n",
    "        for d in range(-5, 5):\n",
    "            for a in range(0, 2):\n",
    "\n",
    "\n",
    "                OptimizedParameters, ErrorValues = scipy.optimize.curve_fit(Model, DetailedXValues, DetailedYValues, p0=[a/20, 8, 0.221, 10, 1, 1, 1,  b/10,  d/10], sigma=y_err, maxfev=100000)\n",
    "\n",
    "                ErrorArray = np.sqrt(np.diag(ErrorValues))\n",
    "                AvgError = np.average(ErrorArray)\n",
    "\n",
    "                if (AvgError < BestError):\n",
    "                    print(f\"New Best Err: {AvgError}\")\n",
    "                    BestError = AvgError\n",
    "                    BestParams = OptimizedParameters\n",
    "\n",
    "    \n",
    "    print(BestParams)\n",
    "    plt.plot(DetailedXValues, DetailedYValues)\n",
    "    plt.plot(DetailedXValues, Model(DetailedXValues, *BestParams.tolist()))\n",
    "    \n",
    "    "
   ]
  },
  {
   "cell_type": "code",
   "execution_count": 127,
   "metadata": {
    "scrolled": true
   },
   "outputs": [
    {
     "name": "stdout",
     "output_type": "stream",
     "text": [
      "[ 0.24374889  0.77986731  0.01832263  2.19880311  2.67616609 -0.15200938\n",
      "  1.27120749  5.2486242   0.71482967]\n",
      "281478.64877804066\n"
     ]
    },
    {
     "data": {
      "image/png": "[encoded data removed]",
      "text/plain": [
       "<Figure size 432x288 with 1 Axes>"
      ]
     },
     "metadata": {
      "needs_background": "light"
     },
     "output_type": "display_data"
    }
   ],
   "source": [
    "def Main():\n",
    "    Days, TimesRaw, WaveHeights = ParseFile()\n",
    "    Timestamps, WaveHeights = SortTimes(Days, TimesRaw, WaveHeights)\n",
    "\n",
    "    # Make Initial Plot\n",
    "    #PlotTidalWave(Timestamps, WaveHeights)\n",
    "    \n",
    "    #PerformCurveFit(Timestamps, WaveHeights)\n",
    "    \n",
    "    \n",
    "    _XValues = np.asarray(Timestamps)\n",
    "    _YValues = np.asarray(WaveHeights)\n",
    "    \n",
    "    \n",
    "    NumSamples:int = 4000\n",
    "    DetailedXValues:list = np.linspace(0, np.max(_XValues), NumSamples)\n",
    "    DetailedYValues:list = np.interp(DetailedXValues, _XValues, _YValues)\n",
    "    \n",
    "    y_err = np.full_like(DetailedYValues, 0.25)\n",
    "    \n",
    "\n",
    "    OptimizedParameters, ErrorValues = scipy.optimize.curve_fit(Model, DetailedXValues, DetailedYValues, p0=[0.25, 0.5, 0.017, 1.8, 2, 1, 1,  0,  2.2], sigma=y_err, maxfev=100000)\n",
    "\n",
    "#     OptimizedParameters = np.asarray([0.25, 0.5, 0.017, 1.8, 2, 1, 1,  0,  2.2])\n",
    "\n",
    "    ErrorArray = np.sqrt(np.diag(ErrorValues))\n",
    "    AvgError = np.average(ErrorArray)\n",
    "\n",
    "    \n",
    "    print(OptimizedParameters)\n",
    "    print(AvgError)\n",
    "    plt.plot(Timestamps, WaveHeights)\n",
    "    plt.plot(DetailedXValues, Model(DetailedXValues, *OptimizedParameters.tolist()))\n",
    "    \n",
    "    \n",
    "    \n",
    "\n",
    "\n",
    "if __name__ == \"__main__\":\n",
    "    Main()"
   ]
  },
  {
   "cell_type": "code",
   "execution_count": null,
   "metadata": {},
   "outputs": [],
   "source": []
  },
  {
   "cell_type": "code",
   "execution_count": null,
   "metadata": {},
   "outputs": [],
   "source": []
  },
  {
   "cell_type": "code",
   "execution_count": null,
   "metadata": {},
   "outputs": [],
   "source": []
  },
  {
   "cell_type": "code",
   "execution_count": null,
   "metadata": {},
   "outputs": [],
   "source": []
  },
  {
   "cell_type": "code",
   "execution_count": null,
   "metadata": {},
   "outputs": [],
   "source": []
  },
  {
   "cell_type": "code",
   "execution_count": null,
   "metadata": {},
   "outputs": [],
   "source": []
  },
  {
   "cell_type": "code",
   "execution_count": null,
   "metadata": {},
   "outputs": [],
   "source": []
  },
  {
   "cell_type": "code",
   "execution_count": null,
   "metadata": {},
   "outputs": [],
   "source": []
  }
 ],
 "metadata": {
  "kernelspec": {
   "display_name": "Python 3 (ipykernel)",
   "language": "python",
   "name": "python3"
  },
  "language_info": {
   "codemirror_mode": {
    "name": "ipython",
    "version": 3
   },
   "file_extension": ".py",
   "mimetype": "text/x-python",
   "name": "python",
   "nbconvert_exporter": "python",
   "pygments_lexer": "ipython3",
   "version": "3.10.12"
  }
 },
 "nbformat": 4,
 "nbformat_minor": 4
}
