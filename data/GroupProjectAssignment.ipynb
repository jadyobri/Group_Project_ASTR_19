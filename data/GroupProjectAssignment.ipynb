{
 "cells": [
  {
   "cell_type": "markdown",
   "metadata": {},
   "source": [
    "# ASTR-19 Group Project\n",
    "This notebook is for the astr-19 group project.\n",
    "\n",
    "Authors: `Jack O'Brien`, `Leo Constantine`, `Veronica Sanchez M`, `Thomas Liao`\n"
   ]
  },
  {
   "cell_type": "code",
   "execution_count": 4,
   "metadata": {},
   "outputs": [],
   "source": [
    "# In this cell, we include libraries\n",
    "import astropy\n",
    "import numpy as np\n",
    "import matplotlib.pyplot as plt\n",
    "import matplotlib"
   ]
  },
  {
   "cell_type": "markdown",
   "metadata": {},
   "source": [
    "Now, we're parsing the file. It will be returned as two lists containing data from each of the columns."
   ]
  },
  {
   "cell_type": "code",
   "execution_count": 7,
   "metadata": {},
   "outputs": [
    {
     "name": "stdout",
     "output_type": "stream",
     "text": [
      "['8:07 ', '5:37 ', '8:55 ', '6:25 ', '9:45 ', '7:14 ', '0:35 ', '8:00 ', '1:28 ', '8:46 ', '2:22 ', '9:31 ', '3:24 ', '0:16 ', '3:22 ', '1:01 ', '4:07 ', '1:46 ', '4:50 ', '1:58 ', '5:31 ', '2:56 ', '6:08 ', '3:45 ', '6:47 ', '4:25 ', '7:22 ', '5:00 ', '7:59 ', '5:34 ', '8:34 ', '6:08 ', '9:10 ', '6:41 ', '9:45 ', '7:12 ', '0:21 ', '7:45 ', '0:57 ', '8:15 ', '1:38 ', '8:48 ', '2:25 ', '9:20 ', '2:22 ', '9:52 ', '2:58 ', '0:30 ', '3:37 ', '0:44 ', '4:23 ', '1:55 ', '5:15 ', '2:57 ', '6:09 ', '3:50 ', '7:05 ', '4:39 ', '7:58 ', '5:27 ', '8:50 ', '6:10 ', '9:40 ', '6:52 ', '0:30 ', '7:34 ', '1:19 ', '8:12 ', '2:10 ', '8:49 ', '1:32 ', '9:24 ', '2:13 ', '0:00 ', '2:54 ', '9:54 ', '3:39 ', '1:15 ', '4:29 ', '2:22 ', '5:21 ', '3:14 '] ['6.57', '0.39', '5.38', '1.74', '5.26', '1.36', '4.13', '1.15', '3.48', '1.61', '2.62', '0.05', '1.83', '1.01', '3.57', '0.73', '4.54', '2.17', '3.76', '2.88', '3.90', '1.92', '4.73', '1.74', '5.66', '0.79', '5.33', '0.04', '5.23', '1.12', '6.67', '0.61', '4.74', '0.93', '4.69', '1.29', '4.20', '0.22', '3.68', '0.26', '2.47', '0.36', '2.59', '0.99', '4.10', '1.87', '3.17', '1.60', '3.71', '3.10', '4.04', '2.49', '4.07', '2.18', '5.93', '0.70', '6.89', '0.21', '6.72', '0.22', '6.77', '1.68', '5.77', '1.32', '4.35', '0.73', '4.23', '0.38', '2.24', '0.61', '3.45', '0.46', '4.13', '1.21', '3.34', '2.58', '3.32', '3.26', '5.21', '2.39', '4.83', '2.41']\n"
     ]
    }
   ],
   "source": [
    "def ParseFile(_Filename:str = \"dataset.txt\"):\n",
    "    \n",
    "    # Firstly, read it into a list line by line\n",
    "    Lines:list = []\n",
    "    with open(_Filename, \"r\") as F:\n",
    "        for Line in F:\n",
    "            Lines.append(Line)\n",
    "    \n",
    "    # Now, remove those that start with a '#'\n",
    "    FilteredLines:list = []\n",
    "    for Line in Lines:\n",
    "        if \"#\" not in Line:\n",
    "            FilteredLines.append(Line)\n",
    "            \n",
    "    # Now parse into arrays\n",
    "    Column1:list = []\n",
    "    Column2:list = []\n",
    "    for Line in FilteredLines:\n",
    "        Column1.append(Line[4:9])\n",
    "        Column2.append(Line[10:].strip(\"\\n\"))\n",
    "            \n",
    "    # Return arrays\n",
    "    return Column1, Column2"
   ]
  }
 ],
 "metadata": {
  "kernelspec": {
   "display_name": "Python 3 (ipykernel)",
   "language": "python",
   "name": "python3"
  },
  "language_info": {
   "codemirror_mode": {
    "name": "ipython",
    "version": 3
   },
   "file_extension": ".py",
   "mimetype": "text/x-python",
   "name": "python",
   "nbconvert_exporter": "python",
   "pygments_lexer": "ipython3",
   "version": "3.10.12"
  }
 },
 "nbformat": 4,
 "nbformat_minor": 2
}
